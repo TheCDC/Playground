{
 "cells": [
  {
   "cell_type": "markdown",
   "metadata": {},
   "source": [
    "https://www.reddit.com/r/learnpython/comments/7jh9r1/how_to_put_these_conditions_in_a_loop/"
   ]
  },
  {
   "cell_type": "code",
   "execution_count": 8,
   "metadata": {},
   "outputs": [
    {
     "name": "stdout",
     "output_type": "stream",
     "text": [
      "[1.3647959183673468, 2.6273104956268223, 3.2296454602249063, 3.8789564987802705, 4.351888177438823, 5.3510390219074795, 6.078821948914088, 6.66462038113451, 7.428576068196331, 7.477963491896592, 7.993823242475408, 8.152835868012879, 8.650490448869101, 8.93259827394988, 9.384555540096317, 9.88423014437515, 10.808213705491212, 10.75619844081327, 11.297898552183751, 11.00090579845634, 10.995126812852316, 11.269760611934293, 11.574777711081843, 11.408007874575997, 11.63315016924914, 12.54221087144563, 12.22633866634237, 12.73302876160363, 12.85352670720337] 29\n"
     ]
    }
   ],
   "source": [
    "a=[ 0.96,0.48,1.36,0.79,0.88,0.75,1.31,1.11,1.02,1.24,0.58,1.05,0.73,1.08,0.90,1.09,1.17,1.63,0.72,1.31,0.51,0.78,1.06,1.11,0.66,1.04,1.74,0.58,1.38,1.03]\n",
    "window=14\n",
    "bx_bar=[]\n",
    "bx=[sum(a[0:window])/window]\n",
    "for i in range(1,len(a)):\n",
    "    bx.append(a[i]+bx[i-1]-(bx[i-1]/window))\n",
    "    bx_bar.append(bx[-1])\n",
    "print(bx_bar, len(bx_bar))"
   ]
  },
  {
   "cell_type": "code",
   "execution_count": 3,
   "metadata": {},
   "outputs": [
    {
     "name": "stdout",
     "output_type": "stream",
     "text": [
      "30 17\n",
      "[0.952857142857143, 0.9485714285714287, 0.9921428571428573, 0.9785714285714286, 1.0385714285714285, 1.0271428571428571, 1.0671428571428572, 1.0100000000000002, 0.9864285714285713, 0.9892857142857142, 0.9800000000000001, 0.9857142857142858, 0.985, 1.0571428571428572, 1.0214285714285716, 1.0557142857142856, 1.0514285714285712]\n"
     ]
    }
   ],
   "source": [
    "a=[ 0.96,0.48,1.36,0.79,0.88,0.75,1.31,1.11,1.02,1.24,0.58,1.05,0.73,1.08,0.90,1.09,1.17,1.63,0.72,1.31,0.51,0.78,1.06,1.11,0.66,1.04,1.74,0.58,1.38,1.03]\n",
    "window=14\n",
    "bx_bar=[]\n",
    "for i in range(window-1,len(a)):\n",
    "    myslice = a[(i-window+1):i+1]\n",
    "    bx_bar.append(sum(myslice)/len(myslice))\n",
    "print(len(a), len(bx_bar))\n",
    "print(bx_bar)"
   ]
  },
  {
   "cell_type": "code",
   "execution_count": null,
   "metadata": {},
   "outputs": [],
   "source": []
  },
  {
   "cell_type": "code",
   "execution_count": null,
   "metadata": {},
   "outputs": [],
   "source": []
  }
 ],
 "metadata": {
  "kernelspec": {
   "display_name": "Python 3",
   "language": "python",
   "name": "python3"
  },
  "language_info": {
   "codemirror_mode": {
    "name": "ipython",
    "version": 3
   },
   "file_extension": ".py",
   "mimetype": "text/x-python",
   "name": "python",
   "nbconvert_exporter": "python",
   "pygments_lexer": "ipython3",
   "version": "3.5.3"
  }
 },
 "nbformat": 4,
 "nbformat_minor": 2
}
